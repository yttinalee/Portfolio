{
 "cells": [
  {
   "cell_type": "code",
   "execution_count": 2,
   "metadata": {},
   "outputs": [],
   "source": [
    "# # Dataset\r\n",
    "from keras.datasets import imdb\r\n"
   ]
  },
  {
   "cell_type": "code",
   "execution_count": null,
   "metadata": {},
   "outputs": [],
   "source": [
    "(X_train, Y_train), (X_test, Y_test) = imdb.load_data(num_words=10000)\r\n"
   ]
  },
  {
   "cell_type": "code",
   "execution_count": null,
   "metadata": {},
   "outputs": [],
   "source": [
    "print(X_train[0])\r\n",
    "print(X_train.shape)\r\n",
    "# max([max(sequence) for sequence in X_train])"
   ]
  },
  {
   "cell_type": "code",
   "execution_count": 50,
   "metadata": {},
   "outputs": [],
   "source": [
    "word_index = imdb.get_word_index()\r\n",
    "reverse_word_index = dict([(value, key) for (key, value) in word_index.items()])\r\n",
    "decoded_review = ' '.join([reverse_word_index.get(i - 3, '?') for i in X_train[0]])  ##要空格\r\n"
   ]
  },
  {
   "cell_type": "code",
   "execution_count": 36,
   "metadata": {},
   "outputs": [
    {
     "data": {
      "text/plain": "'and'"
     },
     "execution_count": 36,
     "metadata": {},
     "output_type": "execute_result"
    }
   ],
   "source": [
    "word_index[\"in\"]\r\n",
    "word_index['at']\r\n",
    "reverse_word_index[1]\r\n",
    "reverse_word_index[2]\r\n",
    "### reverse_word_index[0]  nothing\r\n"
   ]
  },
  {
   "cell_type": "code",
   "execution_count": 51,
   "metadata": {},
   "outputs": [
    {
     "data": {
      "text/plain": "\"? this film was just brilliant casting location scenery story direction everyone's really suited the part they played and you could just imagine being there robert ? is an amazing actor and now the same being director ? father came from the same scottish island as myself so i loved the fact there was a real connection with this film the witty remarks throughout the film were great it was just brilliant so much that i bought the film as soon as it was released for ? and would recommend it to everyone to watch and the fly fishing was amazing really cried at the end it was so sad and you know what they say if you cry at a film it must have been good and this definitely was also ? to the two little boy's that played the ? of norman and paul they were just brilliant children are often left out of the ? list i think because the stars that play them all grown up are such a big profile for the whole film but these children are amazing and should be praised for what they have done don't you think the whole story was so lovely because it was true and was someone's life after all that was shared with us all\""
     },
     "execution_count": 51,
     "metadata": {},
     "output_type": "execute_result"
    }
   ],
   "source": [
    "decoded_review"
   ]
  },
  {
   "cell_type": "code",
   "execution_count": 52,
   "metadata": {},
   "outputs": [],
   "source": [
    "import numpy as np\r\n",
    "def vectorize_sequence(sequences, dimension=10000):\r\n",
    "  results = np.zeros((len(sequences), dimension))\r\n",
    "  for i, sequence in enumerate(sequences):\r\n",
    "    results[i, sequence] = 1.\r\n",
    "  return results"
   ]
  },
  {
   "cell_type": "code",
   "execution_count": 61,
   "metadata": {},
   "outputs": [
    {
     "name": "stdout",
     "output_type": "stream",
     "text": [
      "[0. 1. 1. ... 0. 0. 0.]\n",
      "(25000,)\n",
      "(25000, 10000)\n",
      "(25000, 10000)\n",
      "<class 'numpy.ndarray'>\n",
      "<class 'numpy.ndarray'>\n"
     ]
    }
   ],
   "source": [
    "x_train = vectorize_sequence(X_train)\r\n",
    "x_test = vectorize_sequence(X_test)\r\n",
    "print(x_train[0])\r\n",
    "print(X_train.shape)\r\n",
    "print(x_train.shape)\r\n",
    "print(x_test.shape)\r\n",
    "y_train = np.asarray(Y_train).astype('float32')\r\n",
    "y_test = np.asarray(Y_test).astype('float32')\r\n",
    "# print(type(y_train))\r\n",
    "# aa = Y_train.astype('float32')\r\n",
    "# print(type(aa))"
   ]
  },
  {
   "cell_type": "code",
   "execution_count": 141,
   "metadata": {},
   "outputs": [
    {
     "name": "stdout",
     "output_type": "stream",
     "text": [
      "[1 0 0 ... 0 1 0]\n",
      "[1. 0. 0. ... 0. 1. 0.]\n"
     ]
    }
   ],
   "source": [
    "print(Y_train)\r\n",
    "print(y_train)"
   ]
  },
  {
   "cell_type": "code",
   "execution_count": 83,
   "metadata": {},
   "outputs": [],
   "source": [
    "import keras \r\n",
    "from keras import models, layers\r\n",
    "from keras.utils import np_utils\r\n",
    "from keras import backend as K\r\n",
    "from keras.layers import Dense\r\n",
    "import matplotlib.pyplot as plt\r\n",
    "epochs = 20\r\n",
    "batch_size = 512"
   ]
  },
  {
   "cell_type": "code",
   "execution_count": 136,
   "metadata": {},
   "outputs": [],
   "source": [
    "model = models.Sequential()\r\n",
    "activation = ['relu', 'tanh']\r\n",
    "model.add(Dense(16, activation=activation[0], input_shape=(10000, )))  ##input layer + hidden layer\r\n",
    "model.add(Dense(32, activation=activation[0]))  ##hidden layer\r\n",
    "# model.add(Dense(64, activation='relu'))  ##hidden layer\r\n",
    "model.add(Dense(1, activation='sigmoid'))  ##output "
   ]
  },
  {
   "cell_type": "code",
   "execution_count": 137,
   "metadata": {},
   "outputs": [],
   "source": [
    "x_val = x_train[:10000]\r\n",
    "partial_x_train = x_train[10000:]\r\n",
    "y_val = y_train[:10000]\r\n",
    "partial_y_train = y_train[10000:]"
   ]
  },
  {
   "cell_type": "code",
   "execution_count": 138,
   "metadata": {},
   "outputs": [],
   "source": [
    "model.compile(optimizer='rmsprop',\r\n",
    "              loss='binary_crossentropy',\r\n",
    "              # loss='mse',\r\n",
    "              metrics=['acc'])"
   ]
  },
  {
   "cell_type": "code",
   "execution_count": 139,
   "metadata": {},
   "outputs": [
    {
     "name": "stdout",
     "output_type": "stream",
     "text": [
      "Epoch 1/20\n",
      "30/30 [==============================] - 1s 23ms/step - loss: 0.5614 - acc: 0.7145 - val_loss: 0.3412 - val_acc: 0.8725\n",
      "Epoch 2/20\n",
      "30/30 [==============================] - 0s 12ms/step - loss: 0.2729 - acc: 0.9076 - val_loss: 0.2910 - val_acc: 0.8803\n",
      "Epoch 3/20\n",
      "30/30 [==============================] - 0s 12ms/step - loss: 0.1762 - acc: 0.9408 - val_loss: 0.2735 - val_acc: 0.8885\n",
      "Epoch 4/20\n",
      "30/30 [==============================] - 0s 12ms/step - loss: 0.1274 - acc: 0.9587 - val_loss: 0.3050 - val_acc: 0.8845\n",
      "Epoch 5/20\n",
      "30/30 [==============================] - 0s 12ms/step - loss: 0.1013 - acc: 0.9669 - val_loss: 0.3308 - val_acc: 0.8809\n",
      "Epoch 6/20\n",
      "30/30 [==============================] - 0s 12ms/step - loss: 0.0714 - acc: 0.9778 - val_loss: 0.3866 - val_acc: 0.8787\n",
      "Epoch 7/20\n",
      "30/30 [==============================] - 0s 12ms/step - loss: 0.0552 - acc: 0.9843 - val_loss: 0.5388 - val_acc: 0.8500\n",
      "Epoch 8/20\n",
      "30/30 [==============================] - 0s 12ms/step - loss: 0.0479 - acc: 0.9861 - val_loss: 0.4782 - val_acc: 0.8721\n",
      "Epoch 9/20\n",
      "30/30 [==============================] - 0s 12ms/step - loss: 0.0428 - acc: 0.9869 - val_loss: 0.5308 - val_acc: 0.8707\n",
      "Epoch 10/20\n",
      "30/30 [==============================] - 0s 12ms/step - loss: 0.0259 - acc: 0.9925 - val_loss: 0.5824 - val_acc: 0.8684\n",
      "Epoch 11/20\n",
      "30/30 [==============================] - 0s 12ms/step - loss: 0.0156 - acc: 0.9961 - val_loss: 0.6236 - val_acc: 0.8676\n",
      "Epoch 12/20\n",
      "30/30 [==============================] - 0s 12ms/step - loss: 0.0065 - acc: 0.9993 - val_loss: 0.9602 - val_acc: 0.8288\n",
      "Epoch 13/20\n",
      "30/30 [==============================] - 0s 11ms/step - loss: 0.0551 - acc: 0.9791 - val_loss: 0.7258 - val_acc: 0.8642\n",
      "Epoch 14/20\n",
      "30/30 [==============================] - 0s 11ms/step - loss: 0.0110 - acc: 0.9975 - val_loss: 0.7706 - val_acc: 0.8656\n",
      "Epoch 15/20\n",
      "30/30 [==============================] - 0s 12ms/step - loss: 0.0016 - acc: 1.0000 - val_loss: 0.7972 - val_acc: 0.8646\n",
      "Epoch 16/20\n",
      "30/30 [==============================] - 0s 12ms/step - loss: 0.0010 - acc: 1.0000 - val_loss: 0.8634 - val_acc: 0.8635\n",
      "Epoch 17/20\n",
      "30/30 [==============================] - 0s 11ms/step - loss: 0.0207 - acc: 0.9952 - val_loss: 0.8864 - val_acc: 0.8640\n",
      "Epoch 18/20\n",
      "30/30 [==============================] - 0s 12ms/step - loss: 5.5017e-04 - acc: 1.0000 - val_loss: 0.9055 - val_acc: 0.8632\n",
      "Epoch 19/20\n",
      "30/30 [==============================] - 0s 12ms/step - loss: 3.0713e-04 - acc: 1.0000 - val_loss: 0.9515 - val_acc: 0.8633\n",
      "Epoch 20/20\n",
      "30/30 [==============================] - 0s 11ms/step - loss: 0.0124 - acc: 0.9970 - val_loss: 0.9855 - val_acc: 0.8613\n"
     ]
    }
   ],
   "source": [
    "history = model.fit(partial_x_train, partial_y_train, epochs=epochs, batch_size=batch_size, validation_data=(x_val, y_val))"
   ]
  },
  {
   "cell_type": "code",
   "execution_count": 111,
   "metadata": {},
   "outputs": [
    {
     "name": "stdout",
     "output_type": "stream",
     "text": [
      "dict_keys(['loss', 'acc', 'val_loss', 'val_acc'])\n"
     ]
    }
   ],
   "source": [
    "history_dict = history.history\r\n",
    "print(history_dict.keys())\r\n",
    "loss_values = history_dict['loss']\r\n",
    "val_loss_values = history_dict['val_loss']\r\n",
    "acc_values = history_dict['acc']\r\n",
    "val_acc_values = history_dict['val_acc']\r\n"
   ]
  },
  {
   "cell_type": "code",
   "execution_count": 112,
   "metadata": {},
   "outputs": [
    {
     "data": {
      "image/png": "[encoded data removed]",
      "text/plain": "<Figure size 432x288 with 1 Axes>"
     },
     "metadata": {
      "needs_background": "light"
     },
     "output_type": "display_data"
    },
    {
     "data": {
      "image/png": "[encoded data removed]",
      "text/plain": "<Figure size 432x288 with 1 Axes>"
     },
     "metadata": {
      "needs_background": "light"
     },
     "output_type": "display_data"
    }
   ],
   "source": [
    "epoch = range(1, len(loss_values)+1)\r\n",
    "# print(len(epoch))\r\n",
    "# print(len(loss_values))\r\n",
    "plt.figure()\r\n",
    "plt.plot(epoch, loss_values, 'bo', label=\"Training Loss\")\r\n",
    "plt.plot(epoch, val_loss_values, 'b', label=\"Validation Loss\")\r\n",
    "plt.title(\"Training & Validation Loss\")\r\n",
    "plt.xlabel(\"Epochs\")\r\n",
    "plt.ylabel(\"Loss\")\r\n",
    "plt.legend()\r\n",
    "\r\n",
    "plt.figure()\r\n",
    "plt.plot(epoch, acc_values, \"go\", label=\"Training Accuracy\")\r\n",
    "plt.plot(epoch, val_acc_values, \"g\", label=\"Validation Acccracy\")\r\n",
    "plt.title(\"Training & Validation Accuracy\")\r\n",
    "plt.xlabel(\"Epochs\", fontsize=5)\r\n",
    "plt.ylabel(\"Accuracy\", fontsize=5)\r\n",
    "plt.legend()\r\n",
    "plt.show()"
   ]
  },
  {
   "cell_type": "code",
   "execution_count": 94,
   "metadata": {},
   "outputs": [],
   "source": [
    "# # Predict\r\n",
    "pred_result = model.predict(x_test)"
   ]
  },
  {
   "cell_type": "code",
   "execution_count": 104,
   "metadata": {},
   "outputs": [
    {
     "name": "stdout",
     "output_type": "stream",
     "text": [
      "25000\n",
      "[[0.00444838]\n",
      " [1.        ]\n",
      " [0.9954611 ]\n",
      " ...\n",
      " [0.00228193]\n",
      " [0.01939011]\n",
      " [0.8639988 ]]\n",
      "11599\n"
     ]
    }
   ],
   "source": [
    "count = 0\r\n",
    "print(len(pred_result))\r\n",
    "print(pred_result)\r\n",
    "# [count + 1 for jj in pred_result if jj >= 85]\r\n",
    "for jj in pred_result:\r\n",
    "  if jj >= 0.7:\r\n",
    "    count += 1\r\n",
    "print(count)"
   ]
  }
 ],
 "metadata": {
  "kernelspec": {
   "display_name": "Python 3.8.5 64-bit ('base': conda)",
   "name": "python385jvsc74a57bd0b3ba2566441a7c06988d0923437866b63cedc61552a5af99d1f4fb67d367b25f"
  },
  "language_info": {
   "codemirror_mode": {
    "name": "ipython",
    "version": 3
   },
   "file_extension": ".py",
   "mimetype": "text/x-python",
   "name": "python",
   "nbconvert_exporter": "python",
   "pygments_lexer": "ipython3",
   "version": "3.8.5"
  },
  "orig_nbformat": 2
 },
 "nbformat": 4,
 "nbformat_minor": 2
}